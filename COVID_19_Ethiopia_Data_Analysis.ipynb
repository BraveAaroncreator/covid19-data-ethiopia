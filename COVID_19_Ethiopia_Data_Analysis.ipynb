{
  "nbformat": 4,
  "nbformat_minor": 0,
  "metadata": {
    "colab": {
      "provenance": []
    },
    "kernelspec": {
      "name": "python3",
      "display_name": "Python 3"
    },
    "language_info": {
      "name": "python"
    }
  },
  "cells": [
    {
      "cell_type": "code",
      "execution_count": 7,
      "metadata": {
        "id": "LXByCvomvLSX"
      },
      "outputs": [],
      "source": [
        "import pandas as pd\n",
        "import matplotlib.pyplot as plt\n",
        "import seaborn as sns\n",
        "\n",
        "# Make plots look nice\n",
        "sns.set(style=\"darkgrid\")\n"
      ]
    },
    {
      "cell_type": "code",
      "source": [
        "# Load data from Our World in Data\n",
        "url = \"https://covid.ourworldindata.org/data/owid-covid-data.csv\"\n",
        "df = pd.read_csv(url)\n",
        "\n",
        "# Filter for Ethiopia\n",
        "ethiopia = df[df['location'] == 'Ethiopia']\n",
        "\n",
        "# Show basic info\n",
        "ethiopia[['date', 'total_cases', 'total_deaths']].tail()\n"
      ],
      "metadata": {
        "id": "_zziE3pmvl-p"
      },
      "execution_count": null,
      "outputs": []
    },
    {
      "cell_type": "code",
      "source": [
        "plt.figure(figsize=(12,6))\n",
        "plt.plot(ethiopia['date'], ethiopia['total_cases'], label='Total Cases')\n",
        "plt.plot(ethiopia['date'], ethiopia['total_deaths'], label='Total Deaths')\n",
        "plt.title(\"COVID-19 in Ethiopia: Total Cases & Deaths\")\n",
        "plt.xlabel(\"Date\")\n",
        "plt.ylabel(\"Count\")\n",
        "plt.xticks(rotation=45)\n",
        "plt.legend()\n",
        "plt.tight_layout()\n",
        "plt.show()\n"
      ],
      "metadata": {
        "id": "MD6EZi9pvtbV"
      },
      "execution_count": null,
      "outputs": []
    },
    {
      "cell_type": "code",
      "source": [
        "ethiopia['new_cases'].plot(kind='line', title='New Daily Cases in Ethiopia', figsize=(12,5))\n"
      ],
      "metadata": {
        "id": "FXUzukKYv1Qd"
      },
      "execution_count": null,
      "outputs": []
    },
    {
      "cell_type": "code",
      "source": [
        "ethiopia['new_cases'].max()\n"
      ],
      "metadata": {
        "id": "_HXauFu9v2Wi"
      },
      "execution_count": null,
      "outputs": []
    }
  ]
}